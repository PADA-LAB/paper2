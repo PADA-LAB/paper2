{
 "cells": [
  {
   "cell_type": "code",
   "execution_count": 9,
   "id": "830cf3de",
   "metadata": {},
   "outputs": [
    {
     "name": "stdout",
     "output_type": "stream",
     "text": [
      "전체 행 개수: 89927\n",
      "중복된 행 개수: 0\n"
     ]
    }
   ],
   "source": [
    "# CSV 읽기\n",
    "df = pd.read_csv(\"/Users/jungsujin/paper2/Data/amazon.csv\")\n",
    "\n",
    "# 전체 행 개수 출력\n",
    "print(f'전체 행 개수: {len(df)}')\n",
    "# 중복된 전체 행 기준 개수 출력\n",
    "num_duplicates = df.duplicated().sum()\n",
    "print(f'중복된 행 개수: {num_duplicates}')"
   ]
  },
  {
   "cell_type": "code",
   "execution_count": 10,
   "id": "8d209c61",
   "metadata": {},
   "outputs": [
    {
     "name": "stdout",
     "output_type": "stream",
     "text": [
      "전체 행 개수: 92989\n",
      "중복된 행 개수: 0\n"
     ]
    }
   ],
   "source": [
    "# CSV 읽기\n",
    "df = pd.read_csv(\"/Users/jungsujin/paper2/Data/audible.csv\")\n",
    "\n",
    "# 전체 행 개수 출력\n",
    "print(f'전체 행 개수: {len(df)}')\n",
    "# 중복된 전체 행 기준 개수 출력\n",
    "num_duplicates = df.duplicated().sum()\n",
    "print(f'중복된 행 개수: {num_duplicates}')"
   ]
  },
  {
   "cell_type": "code",
   "execution_count": 11,
   "id": "ae07761f",
   "metadata": {},
   "outputs": [
    {
     "name": "stdout",
     "output_type": "stream",
     "text": [
      "전체 행 개수: 121386\n",
      "중복된 행 개수: 0\n"
     ]
    }
   ],
   "source": [
    "# CSV 읽기\n",
    "df = pd.read_csv(\"/Users/jungsujin/paper2/Data/coursera.csv\")\n",
    "\n",
    "# 전체 행 개수 출력\n",
    "print(f'전체 행 개수: {len(df)}')\n",
    "# 중복된 전체 행 기준 개수 출력\n",
    "num_duplicates = df.duplicated().sum()\n",
    "print(f'중복된 행 개수: {num_duplicates}')"
   ]
  },
  {
   "cell_type": "code",
   "execution_count": 12,
   "id": "2b202238",
   "metadata": {},
   "outputs": [
    {
     "name": "stdout",
     "output_type": "stream",
     "text": [
      "전체 행 개수: 89505\n",
      "중복된 행 개수: 0\n"
     ]
    }
   ],
   "source": [
    "# CSV 읽기\n",
    "df = pd.read_csv(\"/Users/jungsujin/paper2/Data/hotel.csv\")\n",
    "\n",
    "# 전체 행 개수 출력\n",
    "print(f'전체 행 개수: {len(df)}')\n",
    "# 중복된 전체 행 기준 개수 출력\n",
    "num_duplicates = df.duplicated().sum()\n",
    "print(f'중복된 행 개수: {num_duplicates}')"
   ]
  }
 ],
 "metadata": {
  "kernelspec": {
   "display_name": ".venv",
   "language": "python",
   "name": "python3"
  },
  "language_info": {
   "codemirror_mode": {
    "name": "ipython",
    "version": 3
   },
   "file_extension": ".py",
   "mimetype": "text/x-python",
   "name": "python",
   "nbconvert_exporter": "python",
   "pygments_lexer": "ipython3",
   "version": "3.13.2"
  }
 },
 "nbformat": 4,
 "nbformat_minor": 5
}
